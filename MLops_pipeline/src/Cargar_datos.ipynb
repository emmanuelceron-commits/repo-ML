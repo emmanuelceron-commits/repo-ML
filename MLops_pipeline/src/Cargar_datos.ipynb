{
  "nbformat": 4,
  "nbformat_minor": 0,
  "metadata": {
    "colab": {
      "provenance": []
    },
    "kernelspec": {
      "name": "python3",
      "display_name": "Python 3"
    },
    "language_info": {
      "name": "python"
    }
  },
  "cells": [
    {
      "cell_type": "code",
      "source": [
        "# CELDA 1: imports y carga\n",
        "import pandas as pd\n",
        "import numpy as np\n",
        "import matplotlib.pyplot as plt\n",
        "import seaborn as sns\n",
        "sns.set(style=\"whitegrid\")\n",
        "\n",
        "# Ajusta la ruta si corresponde (coloca el CSV en la raíz del repo o en data/)\n",
        "PATH = \"data/pet_adoption_data.csv\"   # o \"/content/pet_adoption_data.csv\"\n",
        "df = pd.read_csv(PATH)\n",
        "\n",
        "print(\"Shape:\", df.shape)\n",
        "df.head()\n"
      ],
      "metadata": {
        "id": "qFu_x2hdoO6R"
      },
      "execution_count": null,
      "outputs": []
    },
    {
      "cell_type": "code",
      "source": [
        "# CELDA 2: info básica y nulos\n",
        "display(df.info())\n",
        "display(df.describe(include='all').T)\n",
        "\n",
        "# Porcentaje de nulos por columna\n",
        "missing = (df.isna().sum() / len(df) * 100).sort_values(ascending=False)\n",
        "display(missing)\n"
      ],
      "metadata": {
        "id": "oyyU8G-coQye"
      },
      "execution_count": null,
      "outputs": []
    },
    {
      "cell_type": "code",
      "source": [
        "# CELDA 3: vistas rápidas de distribuciones y target\n",
        "import matplotlib.pyplot as plt\n",
        "plt.figure(figsize=(6,4))\n",
        "sns.countplot(x='AdoptionLikelihood', data=df)\n",
        "plt.title('Distribución target AdoptionLikelihood')\n",
        "plt.show()\n",
        "\n",
        "# Conteos por PetType\n",
        "plt.figure(figsize=(8,4))\n",
        "sns.countplot(x='PetType', data=df, order=df['PetType'].value_counts().index)\n",
        "plt.title('PetType counts')\n",
        "plt.xticks(rotation=45)\n",
        "plt.show()\n"
      ],
      "metadata": {
        "id": "mNUFCF4QoRo3"
      },
      "execution_count": null,
      "outputs": []
    },
    {
      "cell_type": "code",
      "source": [],
      "metadata": {
        "id": "rTY8Cb4VoPtA"
      },
      "execution_count": null,
      "outputs": []
    }
  ]
}
