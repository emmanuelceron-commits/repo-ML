{
  "nbformat": 4,
  "nbformat_minor": 0,
  "metadata": {
    "colab": {
      "provenance": []
    },
    "kernelspec": {
      "name": "python3",
      "display_name": "Python 3"
    },
    "language_info": {
      "name": "python"
    }
  },
  "cells": [
    {
      "cell_type": "code",
      "source": [
        "# Imports\n",
        "import pandas as pd, numpy as np\n",
        "import matplotlib.pyplot as plt, seaborn as sns\n",
        "from scipy import stats\n",
        "sns.set(style=\"whitegrid\")\n",
        "%matplotlib inline\n",
        "\n",
        "# Carga\n",
        "PATH = \"data/pet_adoption_data.csv\"\n",
        "df = pd.read_csv(PATH)\n",
        "df_original = df.copy()  # guarda copia\n"
      ],
      "metadata": {
        "id": "rTY8Cb4VoPtA"
      },
      "execution_count": null,
      "outputs": []
    },
    {
      "cell_type": "code",
      "source": [
        "# Tipos y conteo de variables\n",
        "print(\"Shape:\", df.shape)\n",
        "display(df.dtypes)\n",
        "display(df.nunique().sort_values(ascending=False).head(50))\n",
        "\n",
        "# Target balance\n",
        "display(df['AdoptionLikelihood'].value_counts(dropna=False))\n",
        "display((df['AdoptionLikelihood'].value_counts(normalize=True)*100).round(2))\n"
      ],
      "metadata": {
        "id": "A8mdQ8F5o_3M"
      },
      "execution_count": null,
      "outputs": []
    },
    {
      "cell_type": "code",
      "source": [
        "# Detectar strings vacíos y ciertos tokens y convertirlos\n",
        "def unify_nulls(df):\n",
        "    df = df.replace(['', ' ', 'NA', 'N/A', 'na', 'nan', 'None', 'none', 'NULL', 'null', -999, 'unknown'], np.nan)\n",
        "    return df\n",
        "\n",
        "df = unify_nulls(df)\n",
        "display((df.isna().sum()/len(df)*100).sort_values(ascending=False))\n"
      ],
      "metadata": {
        "id": "4nGQ-D-mpA_g"
      },
      "execution_count": null,
      "outputs": []
    },
    {
      "cell_type": "code",
      "source": [
        "# Ejemplo de columnas a eliminar\n",
        "to_drop = ['PetID']\n",
        "for col in to_drop:\n",
        "    if col in df.columns:\n",
        "        df = df.drop(columns=[col])\n",
        "print(\"Dropped:\", to_drop)\n"
      ],
      "metadata": {
        "id": "Ji4sN65EpC_3"
      },
      "execution_count": null,
      "outputs": []
    },
    {
      "cell_type": "code",
      "source": [
        "# Variables categóricas candidatas\n",
        "cat_cols = ['PetType','Breed','Color','Size']\n",
        "bin_cols = ['Vaccinated','HealthCondition','PreviousOwner','AdoptionLikelihood']  # target ya es 0/1\n",
        "\n",
        "# Convertir a category\n",
        "for c in cat_cols:\n",
        "    if c in df.columns:\n",
        "        df[c] = df[c].astype('category')\n",
        "\n",
        "# Asegurar target entero 0/1\n",
        "df['AdoptionLikelihood'] = df['AdoptionLikelihood'].astype(int)\n",
        "\n",
        "df.info()\n"
      ],
      "metadata": {
        "id": "4a58VV25pEAO"
      },
      "execution_count": null,
      "outputs": []
    },
    {
      "cell_type": "code",
      "source": [
        "# Estadísticas numéricas\n",
        "display(df.select_dtypes(include=[np.number]).describe().T)\n",
        "\n",
        "# Histogramas para numéricas\n",
        "num_cols = ['AgeMonths','WeightKg','TimeInShelterDays','AdoptionFee']\n",
        "num_cols = [c for c in num_cols if c in df.columns]\n",
        "plt.figure(figsize=(14,8))\n",
        "for i,col in enumerate(num_cols):\n",
        "    plt.subplot(2,2,i+1)\n",
        "    sns.histplot(df[col].dropna(), kde=True, bins=40)\n",
        "    plt.title(col)\n",
        "plt.tight_layout()\n",
        "plt.show()\n",
        "\n",
        "# Boxplots\n",
        "plt.figure(figsize=(14,8))\n",
        "for i,col in enumerate(num_cols):\n",
        "    plt.subplot(2,2,i+1)\n",
        "    sns.boxplot(x=df[col])\n",
        "    plt.title(col)\n",
        "plt.tight_layout()\n",
        "plt.show()\n",
        "\n",
        "# Categóricas: value_counts (top N)\n",
        "for c in cat_cols:\n",
        "    if c in df.columns:\n",
        "        print(\"----\", c, \"----\")\n",
        "        display(df[c].value_counts().head(10))\n"
      ],
      "metadata": {
        "id": "AbPmxp6npFFP"
      },
      "execution_count": null,
      "outputs": []
    },
    {
      "cell_type": "code",
      "source": [
        "for col in num_cols:\n",
        "    s = df[col].dropna()\n",
        "    print(col, \" skew:\", round(s.skew(),3), \" kurtosis:\", round(s.kurtosis(),3))\n"
      ],
      "metadata": {
        "id": "J3gUGd1LpHKm"
      },
      "execution_count": null,
      "outputs": []
    },
    {
      "cell_type": "code",
      "source": [
        "# Proporción de adopción por PetType\n",
        "if 'PetType' in df.columns:\n",
        "    prop = df.groupby('PetType')['AdoptionLikelihood'].mean().sort_values(ascending=False)\n",
        "    display((prop*100).round(2))\n",
        "\n",
        "# Boxplot de TimeInShelterDays por AdoptionLikelihood\n",
        "plt.figure(figsize=(8,4))\n",
        "sns.boxplot(x='AdoptionLikelihood', y='TimeInShelterDays', data=df)\n",
        "plt.title('TimeInShelterDays vs AdoptionLikelihood')\n",
        "plt.show()\n",
        "\n",
        "# Gráficos numéricos por target\n",
        "for col in num_cols:\n",
        "    if col in df.columns:\n",
        "        plt.figure(figsize=(6,3))\n",
        "        sns.kdeplot(data=df, x=col, hue='AdoptionLikelihood', common_norm=False)\n",
        "        plt.title(f'{col} by AdoptionLikelihood')\n",
        "        plt.show()\n"
      ],
      "metadata": {
        "id": "75y0RMRZpIlv"
      },
      "execution_count": null,
      "outputs": []
    },
    {
      "cell_type": "code",
      "source": [
        "# Correlación entre numéricas (Pearson)\n",
        "num_df = df.select_dtypes(include=[np.number]).drop(columns=['AdoptionLikelihood'], errors='ignore')\n",
        "corr = num_df.corr()\n",
        "plt.figure(figsize=(10,8))\n",
        "sns.heatmap(corr, annot=True, fmt=\".2f\", cmap='vlag', center=0)\n",
        "plt.title('Correlation matrix (numerical features)')\n",
        "plt.show()\n"
      ],
      "metadata": {
        "id": "30Cn6tkXpKtI"
      },
      "execution_count": null,
      "outputs": []
    },
    {
      "cell_type": "code",
      "source": [
        "# Pairplot - si pocas columnas numéricas\n",
        "sample = df.sample(min(2000, len(df)), random_state=42)\n",
        "sns.pairplot(sample[num_cols + ['AdoptionLikelihood']], hue='AdoptionLikelihood', corner=True)\n",
        "plt.show()\n"
      ],
      "metadata": {
        "id": "l4CFQwFgpLmX"
      },
      "execution_count": null,
      "outputs": []
    },
    {
      "cell_type": "code",
      "source": [
        "# Crosstab example: Size vs AdoptionLikelihood\n",
        "if 'Size' in df.columns:\n",
        "    display(pd.crosstab(df['Size'], df['AdoptionLikelihood'], normalize='index').round(3)*100)\n"
      ],
      "metadata": {
        "id": "0woORl3UpMsV"
      },
      "execution_count": null,
      "outputs": []
    },
    {
      "cell_type": "markdown",
      "source": [
        "Reglas de validación de datos (sugerencias)\n",
        "\n",
        "Incluye en tu notebook un apartado con reglas detectadas, por ejemplo:\n",
        "\n",
        "AgeMonths debe ser >= 0 y < 240 (si aparece >1000 es error).\n",
        "\n",
        "WeightKg > 0 y < 200 (filtrar outliers).\n",
        "\n",
        "AdoptionFee >= 0; si hay ceros verificar.\n",
        "\n",
        "TimeInShelterDays no negativo.\n",
        "\n",
        "Categorías con muy pocos registros agrupar en 'Other' (ej. razas raras)."
      ],
      "metadata": {
        "id": "q2kuHkwFpPG4"
      }
    },
    {
      "cell_type": "code",
      "source": [
        "# Ejemplo de limpieza por reglas\n",
        "df = df[(df['AgeMonths'].between(0,240)) | (df['AgeMonths'].isna())]\n",
        "df = df[df['WeightKg'].isna() | (df['WeightKg'].between(0.1,200))]\n"
      ],
      "metadata": {
        "id": "QrFqUWt0pRWP"
      },
      "execution_count": null,
      "outputs": []
    },
    {
      "cell_type": "markdown",
      "source": [
        "Features derivados sugeridos\n",
        "\n",
        "Incluye una sección con posibles features a crear:\n",
        "\n",
        "AgeYears = AgeMonths / 12 (más interpretable).\n",
        "\n",
        "IsPuppy = AgeMonths < 12 (boolean).\n",
        "\n",
        "FeePerKg = AdoptionFee / WeightKg (si WeightKg disponible).\n",
        "\n",
        "ShelterTimeBucket = bucketizado de TimeInShelterDays (0-30,31-90,90+).\n",
        "\n",
        "YoungAndLight combinando edad y peso."
      ],
      "metadata": {
        "id": "EAWXVfV4pWke"
      }
    },
    {
      "cell_type": "code",
      "source": [
        "df['AgeYears'] = (df['AgeMonths'] / 12).round(2)\n",
        "df['IsPuppy'] = (df['AgeMonths'] < 12).astype(int)\n",
        "df['ShelterTimeBucket'] = pd.cut(df['TimeInShelterDays'], bins=[-1,30,90,10000], labels=['0-30','31-90','90+'])\n"
      ],
      "metadata": {
        "id": "E7KpX1qjpTn5"
      },
      "execution_count": null,
      "outputs": []
    }
  ]
}
